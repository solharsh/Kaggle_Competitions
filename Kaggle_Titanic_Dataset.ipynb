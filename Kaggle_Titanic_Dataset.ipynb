{
  "nbformat": 4,
  "nbformat_minor": 0,
  "metadata": {
    "colab": {
      "name": "Kaggle_Titanic_Dataset.ipynb",
      "provenance": [],
      "toc_visible": true,
      "mount_file_id": "https://github.com/solharsh/ML_Repository_University_Of_Chicago_PGD/blob/master/Assignment3_Titanic_Dataset.ipynb",
      "authorship_tag": "ABX9TyON4yrZkBVXjdl/Qv44+zWV",
      "include_colab_link": true
    },
    "kernelspec": {
      "name": "python3",
      "display_name": "Python 3"
    }
  },
  "cells": [
    {
      "cell_type": "markdown",
      "metadata": {
        "id": "view-in-github",
        "colab_type": "text"
      },
      "source": [
        "<a href=\"https://colab.research.google.com/github/solharsh/Kaggle_Competitions/blob/master/Kaggle_Titanic_Dataset.ipynb\" target=\"_parent\"><img src=\"https://colab.research.google.com/assets/colab-badge.svg\" alt=\"Open In Colab\"/></a>"
      ]
    },
    {
      "cell_type": "markdown",
      "metadata": {
        "id": "DRgeoVKKXjN7",
        "colab_type": "text"
      },
      "source": [
        "# Assignment 3"
      ]
    },
    {
      "cell_type": "markdown",
      "metadata": {
        "id": "LTQR8KI-XpES",
        "colab_type": "text"
      },
      "source": [
        "In 1912, the British passenger ship Titanic struck an iceberg, which led to the death of over 1,500 passengers and crew, more than half the people on board.\n",
        "\n",
        "You want to construct a model with Logistic Regression that uses available data about the passengers to predict their survival.\n",
        "\n",
        "Use this dataset: titanic_dataset.csv (more information about this dataset is available on Kaggle (Links to an external site.)--however, ignore the other datasets there)\n",
        "\n",
        "First, drop columns from the dataset that are obviously unnecessary for your model.\n",
        "Then, assign the dataset's median Age to rows where the age data is missing.\n",
        "Then, split the dataset into a training set and test set.\n",
        "Fit your initial model, and identify and remove from consideration predictors that are not significant.\n",
        "Plot a ROC curve and find the optimal cutoff probability\n",
        "Update your predictions using the optimal cutoff\n",
        "Finally, create a confusion matrix using your final predictions\n",
        " \n",
        "\n",
        "Document your work and explain your decision making as you build your model."
      ]
    },
    {
      "cell_type": "markdown",
      "metadata": {
        "id": "SIUCFsWoXtIA",
        "colab_type": "text"
      },
      "source": [
        "Question:\n",
        "1. First, drop columns from the dataset that are obviously unnecessary for your model.\n",
        "2. Then, assign the dataset's median Age to rows where the age data is missing.\n",
        "3. Then, split the dataset into a training set and test set.\n",
        "4. Fit your initial model, and identify and remove from consideration predictors that are not significant.\n",
        "5. Plot a ROC curve and find the optimal cutoff probability\n",
        "6. Update your predictions using the optimal cutoff\n",
        "7. Finally, create a confusion matrix using your final predictions"
      ]
    },
    {
      "cell_type": "markdown",
      "metadata": {
        "id": "wPOrTc7mXv0N",
        "colab_type": "text"
      },
      "source": [
        "\n",
        "\n",
        "Strategising the Question:\n",
        "\n",
        "Let's divide the process in 3 Parts :\n",
        "\n",
        "A. Data Preparation\n",
        "\n",
        "B. Model Fitting\n",
        "\n",
        "C. Improving Accuracy\n",
        "\n",
        "\n",
        "\n",
        "\n",
        "\n",
        "\n",
        "importing all important libraries for Statsmodels and Scikit-Learn:\n"
      ]
    },
    {
      "cell_type": "code",
      "metadata": {
        "id": "NUohuuqQXkpb",
        "colab_type": "code",
        "colab": {}
      },
      "source": [
        "import numpy as np\n",
        "import pandas as pd\n",
        "import matplotlib.pyplot as plt\n",
        "from sklearn.preprocessing import StandardScaler\n",
        "from sklearn.neighbors import KNeighborsClassifier\n",
        "from sklearn.model_selection import GridSearchCV\n",
        "from sklearn.preprocessing import LabelEncoder"
      ],
      "execution_count": 0,
      "outputs": []
    },
    {
      "cell_type": "code",
      "metadata": {
        "id": "FBjpV4qhXx8C",
        "colab_type": "code",
        "colab": {}
      },
      "source": [
        "train_df = pd.read_csv(\"/content/drive/My Drive/UC Machine Learning/Datasets/titanic_dataset.csv\") #Reading the CSV file and creating dataframe"
      ],
      "execution_count": 0,
      "outputs": []
    },
    {
      "cell_type": "code",
      "metadata": {
        "id": "yu9i8BWGX-xs",
        "colab_type": "code",
        "colab": {}
      },
      "source": [
        "pred_df = pd.read_csv(\"/content/drive/My Drive/UC Machine Learning/Datasets/test.csv\")"
      ],
      "execution_count": 0,
      "outputs": []
    },
    {
      "cell_type": "code",
      "metadata": {
        "id": "z5UN46uaYAgH",
        "colab_type": "code",
        "colab": {}
      },
      "source": [
        "# append the two datasets for feature engineering\n",
        "train_df[\"dataset\"] = \"train\"\n",
        "pred_df[\"dataset\"] = \"pred\"\n",
        "data_df = train_df.append(pred_df, sort=True)"
      ],
      "execution_count": 0,
      "outputs": []
    },
    {
      "cell_type": "markdown",
      "metadata": {
        "id": "xIDrik8PU2UK",
        "colab_type": "text"
      },
      "source": [
        "From a sample of the RMS Titanic data, we can see the various features present for each passenger on the ship:\n",
        "\n",
        "- Survived: Outcome of survival (0 = No; 1 = Yes)\n",
        "- Pclass: Socio-economic class (1 = Upper class; 2 = Middle class; 3 = Lower class)\n",
        "- Name: Name of passenger\n",
        "- Sex: Sex of the passenger\n",
        "- Age: Age of the passenger (Some entries contain NaN)\n",
        "- SibSp: Number of siblings and spouses of the passenger aboard\n",
        "- Parch: Number of parents and children of the passenger aboard\n",
        "- Ticket: Ticket number of the passenger\n",
        "- Fare: Fare paid by the passenger\n",
        "- Cabin Cabin number of the passenger (Some entries contain NaN)\n",
        "- Embarked: Port of embarkation of the passenger (C = Cherbourg; Q = Queenstown; S = Southampton)"
      ]
    },
    {
      "cell_type": "code",
      "metadata": {
        "id": "MzhBV0xZuRGI",
        "colab_type": "code",
        "outputId": "1ca1ed12-61d5-4cc8-c4cf-5dc860a151a5",
        "colab": {
          "base_uri": "https://localhost:8080/",
          "height": 250
        }
      },
      "source": [
        "# show missing values\n",
        "data_df.isnull().sum()"
      ],
      "execution_count": 0,
      "outputs": [
        {
          "output_type": "execute_result",
          "data": {
            "text/plain": [
              "Age             263\n",
              "Cabin          1014\n",
              "Embarked          2\n",
              "Fare              1\n",
              "Name              0\n",
              "Parch             0\n",
              "PassengerId       0\n",
              "Pclass            0\n",
              "Sex               0\n",
              "SibSp             0\n",
              "Survived        418\n",
              "Ticket            0\n",
              "dataset           0\n",
              "dtype: int64"
            ]
          },
          "metadata": {
            "tags": []
          },
          "execution_count": 11
        }
      ]
    },
    {
      "cell_type": "markdown",
      "metadata": {
        "id": "NrUABaFuuW6V",
        "colab_type": "text"
      },
      "source": [
        "The 'Name' column contains interesting information: the family name and the title. The title can give us relevant information about the marital status and age. The family name can help us to find if some persons of the individual's family survived.\n"
      ]
    },
    {
      "cell_type": "code",
      "metadata": {
        "id": "R2qlfmqUuZio",
        "colab_type": "code",
        "colab": {}
      },
      "source": [
        "# clean name and extracting Title\n",
        "\n",
        "data_df['Title'] = data_df['Name'].str.extract('([A-Za-z]+)\\.', expand=True)\n",
        "\n",
        "# replace rare titles with more common ones\n",
        "mapping = {'Mlle': 'Miss', 'Major': 'Mr', 'Col': 'Mr', 'Sir': 'Mr', 'Don': 'Mr', 'Mme': 'Miss',\n",
        "          'Jonkheer': 'Mr', 'Lady': 'Mrs', 'Capt': 'Mr', 'Countess': 'Mrs', 'Ms': 'Miss', 'Dona': 'Mrs'}\n",
        "\n",
        "data_df.replace({'Title': mapping}, inplace=True)"
      ],
      "execution_count": 0,
      "outputs": []
    },
    {
      "cell_type": "markdown",
      "metadata": {
        "id": "trPpL8M0ud9i",
        "colab_type": "text"
      },
      "source": [
        "A lot of age values are missing. We can impute the using the median of the persons with the same title."
      ]
    },
    {
      "cell_type": "code",
      "metadata": {
        "id": "Hj4u7n6YudKF",
        "colab_type": "code",
        "colab": {}
      },
      "source": [
        "titles = list(data_df.Title.value_counts().index)\n",
        "\n",
        "# for each title, impute missing age by the median of the persons with the same title\n",
        "for title in titles:\n",
        "    age_to_impute = data_df.groupby('Title')['Age'].median()[title]\n",
        "    data_df.loc[(data_df['Age'].isnull()) & (data_df['Title'] == title), 'Age'] = age_to_impute"
      ],
      "execution_count": 0,
      "outputs": []
    },
    {
      "cell_type": "markdown",
      "metadata": {
        "id": "4fDQ2cXWui2R",
        "colab_type": "text"
      },
      "source": [
        "The Parch variable corresponds to the number of parents or children aboard the Titanic. The SibSp variable corresponds to the number of siblings or spouses aboard the Titanic. We can add those two variables in order to get the size of the family that was onboard."
      ]
    },
    {
      "cell_type": "code",
      "metadata": {
        "id": "bMvMMw30uk1t",
        "colab_type": "code",
        "colab": {}
      },
      "source": [
        "# compute family size\n",
        "data_df['Family_Size'] = data_df['Parch'] + data_df['SibSp']"
      ],
      "execution_count": 0,
      "outputs": []
    },
    {
      "cell_type": "markdown",
      "metadata": {
        "id": "Ct7nMqD3unc9",
        "colab_type": "text"
      },
      "source": [
        "Now we can try to retrieve information about family survival. There are two ways to find people from the same family:\n",
        "\n",
        "they have the same last name and they paid the same family fare\n",
        "they have the same ticket id"
      ]
    },
    {
      "cell_type": "code",
      "metadata": {
        "id": "jyoWSfpXupwC",
        "colab_type": "code",
        "colab": {}
      },
      "source": [
        "# get the last name (family name): the string part before the ,\n",
        "data_df['Last_Name'] = data_df['Name'].apply(lambda x: str.split(x, \",\")[0])\n",
        "\n",
        "# remove null fare values\n",
        "data_df['Fare'].fillna(data_df['Fare'].mean(), inplace=True)"
      ],
      "execution_count": 0,
      "outputs": []
    },
    {
      "cell_type": "code",
      "metadata": {
        "id": "h5rvKtP3utET",
        "colab_type": "code",
        "outputId": "a0144a0a-9726-4121-ac0f-751130c292f5",
        "colab": {
          "base_uri": "https://localhost:8080/",
          "height": 33
        }
      },
      "source": [
        "# get information about family survival using Last_Name and Fare\n",
        "\n",
        "# 0.5: default value for no information\n",
        "# 1: someone of the same family survived\n",
        "# 0: we don't know if somebody survived but we know that somebody died\n",
        "\n",
        "default_survival_value = 0.5\n",
        "data_df['Family_Survival'] = default_survival_value\n",
        "\n",
        "for grp, grp_df in data_df.groupby(['Last_Name', 'Fare']):\n",
        "    # if a family group is found\n",
        "    if (len(grp_df) != 1):\n",
        "        # for every person, look for the other people from the same family\n",
        "        for ind, row in grp_df.iterrows():\n",
        "            smax = grp_df.drop(ind)['Survived'].max()\n",
        "            smin = grp_df.drop(ind)['Survived'].min()\n",
        "            passID = row['PassengerId']\n",
        "            \n",
        "            if (smax == 1.0): # if anyone in the family survived, assign 1\n",
        "                data_df.loc[data_df['PassengerId'] == passID, 'Family_Survival'] = 1\n",
        "            elif (smin==0.0): # else if we saw someone dead, assign 0\n",
        "                data_df.loc[data_df['PassengerId'] == passID, 'Family_Survival'] = 0\n",
        "\n",
        "print(\"Number of passengers with family survival information:\", \n",
        "      data_df.loc[data_df['Family_Survival']!=0.5].shape[0])"
      ],
      "execution_count": 0,
      "outputs": [
        {
          "output_type": "stream",
          "text": [
            "Number of passengers with family survival information: 420\n"
          ],
          "name": "stdout"
        }
      ]
    },
    {
      "cell_type": "code",
      "metadata": {
        "id": "clSrL2F3uwzi",
        "colab_type": "code",
        "outputId": "63d1442f-8ed6-471f-8d5f-4da59d856f5d",
        "colab": {
          "base_uri": "https://localhost:8080/",
          "height": 33
        }
      },
      "source": [
        "# get information about family survival using the Ticket number\n",
        "\n",
        "for _, grp_df in data_df.groupby('Ticket'):\n",
        "    # if a family group is found\n",
        "    if (len(grp_df) != 1):\n",
        "        # for every person, look for the other people from the same family\n",
        "        for ind, row in grp_df.iterrows():\n",
        "            if (row['Family_Survival'] == 0) | (row['Family_Survival']== 0.5):\n",
        "                smax = grp_df.drop(ind)['Survived'].max()\n",
        "                smin = grp_df.drop(ind)['Survived'].min()\n",
        "                passID = row['PassengerId']\n",
        "                if (smax == 1.0): # if anyone in the family survived, assign 1\n",
        "                    data_df.loc[data_df['PassengerId'] == passID, 'Family_Survival'] = 1\n",
        "                elif (smin==0.0): # else if we saw someone dead, assign 0\n",
        "                    data_df.loc[data_df['PassengerId'] == passID, 'Family_Survival'] = 0\n",
        "                        \n",
        "print(\"Number of passenger with family survival information: \" \n",
        "      +str(data_df[data_df['Family_Survival']!=0.5].shape[0]))"
      ],
      "execution_count": 0,
      "outputs": [
        {
          "output_type": "stream",
          "text": [
            "Number of passenger with family survival information: 546\n"
          ],
          "name": "stdout"
        }
      ]
    },
    {
      "cell_type": "markdown",
      "metadata": {
        "id": "3UcIOag0uzji",
        "colab_type": "text"
      },
      "source": [
        "Next we regroup Fare and Age into bins:"
      ]
    },
    {
      "cell_type": "code",
      "metadata": {
        "id": "sMD6Tb4muy94",
        "colab_type": "code",
        "colab": {}
      },
      "source": [
        "# fare bins\n",
        "data_df['FareBin'] = pd.qcut(data_df['Fare'], 5)\n",
        "label = LabelEncoder()\n",
        "data_df['FareBin_Code'] = label.fit_transform(data_df['FareBin'])\n",
        "data_df.drop(['Fare'], 1, inplace=True)"
      ],
      "execution_count": 0,
      "outputs": []
    },
    {
      "cell_type": "code",
      "metadata": {
        "id": "BVLWn9oDu21w",
        "colab_type": "code",
        "colab": {}
      },
      "source": [
        "# age bins\n",
        "data_df['AgeBin'] = pd.qcut(data_df['Age'], 4)\n",
        "label = LabelEncoder()\n",
        "data_df['AgeBin_Code'] = label.fit_transform(data_df['AgeBin'])\n",
        "data_df.drop(['Age'], 1, inplace=True)"
      ],
      "execution_count": 0,
      "outputs": []
    },
    {
      "cell_type": "code",
      "metadata": {
        "id": "5rTHGR8Lu4od",
        "colab_type": "code",
        "colab": {}
      },
      "source": [
        "# encode sex variable\n",
        "data_df['Sex'].replace(['male','female'],[0,1],inplace=True)"
      ],
      "execution_count": 0,
      "outputs": []
    },
    {
      "cell_type": "code",
      "metadata": {
        "id": "3aecoi7Hu6eB",
        "colab_type": "code",
        "colab": {}
      },
      "source": [
        "# choose features and labels\n",
        "label = \"Survived\"\n",
        "features = [\"Pclass\", \"Sex\", \"Family_Size\", \"Family_Survival\", \"FareBin_Code\", \"AgeBin_Code\"]\n",
        "\n",
        "# split back data_df into train and prediction sets\n",
        "train_df = data_df[data_df[\"dataset\"] == \"train\"][features + [label]]\n",
        "pred_df = data_df[data_df[\"dataset\"] == \"pred\"][features]\n",
        "\n",
        "# convert Survived variable to int for train dataset\n",
        "train_df[\"Survived\"] = train_df[\"Survived\"].astype(np.int64)"
      ],
      "execution_count": 0,
      "outputs": []
    },
    {
      "cell_type": "code",
      "metadata": {
        "id": "SEzSjNifu-I1",
        "colab_type": "code",
        "outputId": "613f1bd9-2bf8-4a4a-f2ef-902257b48664",
        "colab": {
          "base_uri": "https://localhost:8080/",
          "height": 197
        }
      },
      "source": [
        "train_df.head()"
      ],
      "execution_count": 0,
      "outputs": [
        {
          "output_type": "execute_result",
          "data": {
            "text/html": [
              "<div>\n",
              "<style scoped>\n",
              "    .dataframe tbody tr th:only-of-type {\n",
              "        vertical-align: middle;\n",
              "    }\n",
              "\n",
              "    .dataframe tbody tr th {\n",
              "        vertical-align: top;\n",
              "    }\n",
              "\n",
              "    .dataframe thead th {\n",
              "        text-align: right;\n",
              "    }\n",
              "</style>\n",
              "<table border=\"1\" class=\"dataframe\">\n",
              "  <thead>\n",
              "    <tr style=\"text-align: right;\">\n",
              "      <th></th>\n",
              "      <th>Pclass</th>\n",
              "      <th>Sex</th>\n",
              "      <th>Family_Size</th>\n",
              "      <th>Family_Survival</th>\n",
              "      <th>FareBin_Code</th>\n",
              "      <th>AgeBin_Code</th>\n",
              "      <th>Survived</th>\n",
              "    </tr>\n",
              "  </thead>\n",
              "  <tbody>\n",
              "    <tr>\n",
              "      <th>0</th>\n",
              "      <td>3</td>\n",
              "      <td>0</td>\n",
              "      <td>1</td>\n",
              "      <td>0.5</td>\n",
              "      <td>0</td>\n",
              "      <td>0</td>\n",
              "      <td>0</td>\n",
              "    </tr>\n",
              "    <tr>\n",
              "      <th>1</th>\n",
              "      <td>1</td>\n",
              "      <td>1</td>\n",
              "      <td>1</td>\n",
              "      <td>0.5</td>\n",
              "      <td>4</td>\n",
              "      <td>3</td>\n",
              "      <td>1</td>\n",
              "    </tr>\n",
              "    <tr>\n",
              "      <th>2</th>\n",
              "      <td>3</td>\n",
              "      <td>1</td>\n",
              "      <td>0</td>\n",
              "      <td>0.5</td>\n",
              "      <td>1</td>\n",
              "      <td>1</td>\n",
              "      <td>1</td>\n",
              "    </tr>\n",
              "    <tr>\n",
              "      <th>3</th>\n",
              "      <td>1</td>\n",
              "      <td>1</td>\n",
              "      <td>1</td>\n",
              "      <td>0.0</td>\n",
              "      <td>4</td>\n",
              "      <td>2</td>\n",
              "      <td>1</td>\n",
              "    </tr>\n",
              "    <tr>\n",
              "      <th>4</th>\n",
              "      <td>3</td>\n",
              "      <td>0</td>\n",
              "      <td>0</td>\n",
              "      <td>0.5</td>\n",
              "      <td>1</td>\n",
              "      <td>2</td>\n",
              "      <td>0</td>\n",
              "    </tr>\n",
              "  </tbody>\n",
              "</table>\n",
              "</div>"
            ],
            "text/plain": [
              "   Pclass  Sex  Family_Size  ...  FareBin_Code  AgeBin_Code  Survived\n",
              "0       3    0            1  ...             0            0         0\n",
              "1       1    1            1  ...             4            3         1\n",
              "2       3    1            0  ...             1            1         1\n",
              "3       1    1            1  ...             4            2         1\n",
              "4       3    0            0  ...             1            2         0\n",
              "\n",
              "[5 rows x 7 columns]"
            ]
          },
          "metadata": {
            "tags": []
          },
          "execution_count": 22
        }
      ]
    },
    {
      "cell_type": "markdown",
      "metadata": {
        "id": "YbSh7w1xvHnL",
        "colab_type": "text"
      },
      "source": [
        "# Train and test KNN classifiers"
      ]
    },
    {
      "cell_type": "code",
      "metadata": {
        "id": "oe-DwVWFYRyp",
        "colab_type": "code",
        "colab": {}
      },
      "source": [
        "# setup dataframes\n",
        "X = train_df[features]\n",
        "y = train_df['Survived']\n",
        "X_pred = pred_df\n",
        "\n",
        "# scale data for KNN classifier\n",
        "std_scaler = StandardScaler()\n",
        "X = std_scaler.fit_transform(X)\n",
        "X_pred = std_scaler.transform(X_pred)"
      ],
      "execution_count": 0,
      "outputs": []
    },
    {
      "cell_type": "code",
      "metadata": {
        "id": "EzAQiaj2vLcO",
        "colab_type": "code",
        "outputId": "508d131b-660b-4e6f-e7f1-8297c8f9b752",
        "colab": {
          "base_uri": "https://localhost:8080/",
          "height": 133
        }
      },
      "source": [
        "# setup parameters values for grid search\n",
        "n_neighbors = [6,7,8,9,10,11,12,14,16,18,20,22]\n",
        "weights = ['uniform', 'distance']\n",
        "leaf_size = list(range(1,50,5))\n",
        "hyperparams = {'weights': weights, 'leaf_size': leaf_size, 'n_neighbors': n_neighbors}\n",
        "\n",
        "\n",
        "gd=GridSearchCV(estimator = KNeighborsClassifier(), param_grid = hyperparams, verbose=True, \n",
        "                cv=10, scoring = \"roc_auc\")\n",
        "gd.fit(X, y)\n",
        "print(gd.best_score_)\n",
        "print(gd.best_estimator_)"
      ],
      "execution_count": 0,
      "outputs": [
        {
          "output_type": "stream",
          "text": [
            "Fitting 10 folds for each of 240 candidates, totalling 2400 fits\n"
          ],
          "name": "stdout"
        },
        {
          "output_type": "stream",
          "text": [
            "[Parallel(n_jobs=1)]: Using backend SequentialBackend with 1 concurrent workers.\n"
          ],
          "name": "stderr"
        },
        {
          "output_type": "stream",
          "text": [
            "0.8783125088419206\n",
            "KNeighborsClassifier(algorithm='auto', leaf_size=26, metric='minkowski',\n",
            "                     metric_params=None, n_jobs=None, n_neighbors=18, p=2,\n",
            "                     weights='uniform')\n"
          ],
          "name": "stdout"
        },
        {
          "output_type": "stream",
          "text": [
            "[Parallel(n_jobs=1)]: Done 2400 out of 2400 | elapsed:   12.1s finished\n"
          ],
          "name": "stderr"
        }
      ]
    },
    {
      "cell_type": "markdown",
      "metadata": {
        "id": "e8UHB-x-wTCX",
        "colab_type": "text"
      },
      "source": [
        "# Submit predictions"
      ]
    },
    {
      "cell_type": "code",
      "metadata": {
        "id": "bhwTzg9gwUPz",
        "colab_type": "code",
        "colab": {}
      },
      "source": [
        "# make predictions\n",
        "gd.best_estimator_.fit(X, y)\n",
        "y_pred = gd.best_estimator_.predict(X_pred)\n",
        "\n",
        "# output predictions dataframe\n",
        "temp = pd.DataFrame(pd.read_csv(\"/content/drive/My Drive/UC Machine Learning/Datasets/test.csv\")['PassengerId'])\n",
        "temp['Survived'] = y_pred\n",
        "temp.to_csv(\"/content/drive/My Drive/NLP/submission.csv\", index = False)"
      ],
      "execution_count": 0,
      "outputs": []
    },
    {
      "cell_type": "code",
      "metadata": {
        "id": "FEUjTvLoZmFu",
        "colab_type": "code",
        "colab": {}
      },
      "source": [
        ""
      ],
      "execution_count": 0,
      "outputs": []
    }
  ]
}